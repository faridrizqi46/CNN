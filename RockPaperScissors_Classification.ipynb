{
  "nbformat": 4,
  "nbformat_minor": 0,
  "metadata": {
    "colab": {
      "name": "RPSClassification.ipynb",
      "provenance": [],
      "collapsed_sections": [],
      "authorship_tag": "ABX9TyNwnPA5OlRjl23ojI/sfNOr"
    },
    "kernelspec": {
      "name": "python3",
      "display_name": "Python 3"
    }
  },
  "cells": [
    {
      "cell_type": "code",
      "metadata": {
        "id": "qgFJgOr5k91p"
      },
      "source": [
        "import tensorflow as tf\n",
        "from tensorflow.keras.optimizers import RMSprop\n",
        "from tensorflow.keras.preprocessing.image import ImageDataGenerator\n",
        "import zipfile,os"
      ],
      "execution_count": null,
      "outputs": []
    },
    {
      "cell_type": "code",
      "metadata": {
        "id": "Pwn52DCKp-Ff",
        "colab": {
          "base_uri": "https://localhost:8080/"
        },
        "outputId": "fcbecc42-56ce-43c6-fc81-f6bef1ecc6aa"
      },
      "source": [
        "!wget --no-check-certificate \\\n",
        "  https://dicodingacademy.blob.core.windows.net/picodiploma/ml_pemula_academy/rockpaperscissors.zip \\\n",
        "  -O /tmp/rockpaperscissors.zip\n"
      ],
      "execution_count": null,
      "outputs": [
        {
          "output_type": "stream",
          "text": [
            "--2021-01-05 09:20:50--  https://dicodingacademy.blob.core.windows.net/picodiploma/ml_pemula_academy/rockpaperscissors.zip\n",
            "Resolving dicodingacademy.blob.core.windows.net (dicodingacademy.blob.core.windows.net)... 52.239.197.36\n",
            "Connecting to dicodingacademy.blob.core.windows.net (dicodingacademy.blob.core.windows.net)|52.239.197.36|:443... connected.\n",
            "HTTP request sent, awaiting response... 200 OK\n",
            "Length: 322873683 (308M) [application/zip]\n",
            "Saving to: ‘/tmp/rockpaperscissors.zip’\n",
            "\n",
            "/tmp/rockpapersciss 100%[===================>] 307.92M  1.01MB/s    in 6m 16s  \n",
            "\n",
            "2021-01-05 09:27:08 (838 KB/s) - ‘/tmp/rockpaperscissors.zip’ saved [322873683/322873683]\n",
            "\n"
          ],
          "name": "stdout"
        }
      ]
    },
    {
      "cell_type": "code",
      "metadata": {
        "id": "2Rgmbpwl8SSe"
      },
      "source": [
        "#ekstrak file\r\n",
        "local_zip = '/tmp/rockpaperscissors.zip'\r\n",
        "zip_ref = zipfile.ZipFile(local_zip, 'r')\r\n",
        "zip_ref.extractall('/content')\r\n",
        "zip_ref.close()"
      ],
      "execution_count": null,
      "outputs": []
    },
    {
      "cell_type": "code",
      "metadata": {
        "id": "mFntglstq1ca"
      },
      "source": [
        "#Membuat direktori\n",
        "base_dir = '/content/rockpaperscissors'\n",
        "os.mkdir(base_dir + '/train')\n",
        "os.mkdir(base_dir + '/validation')\n",
        "os.mkdir(base_dir + '/testing')\n",
        "\n",
        "train_dir = os.path.join(base_dir, 'train')\n",
        "validation_dir = os.path.join(base_dir, 'validation')\n",
        "testing_dir = os.path.join(base_dir, 'testing')"
      ],
      "execution_count": null,
      "outputs": []
    },
    {
      "cell_type": "code",
      "metadata": {
        "id": "VaQhVDJG6UV1"
      },
      "source": [
        "\r\n"
      ],
      "execution_count": null,
      "outputs": []
    },
    {
      "cell_type": "code",
      "metadata": {
        "id": "OUbHTnHpQgt5",
        "colab": {
          "base_uri": "https://localhost:8080/"
        },
        "outputId": "5bf3fb87-2647-4405-95af-ce2137649973"
      },
      "source": [
        "print (\"total rocks images : \" , len(os.listdir('/content/rockpaperscissors/rock')))\n",
        "print (\"total papers images : \" , len(os.listdir('/content/rockpaperscissors/paper')))\n",
        "print (\"total scissors images : \" , len(os.listdir('/content/rockpaperscissors/scissors')))"
      ],
      "execution_count": null,
      "outputs": [
        {
          "output_type": "stream",
          "text": [
            "total rocks images :  726\n",
            "total papers images :  712\n",
            "total scissors images :  750\n"
          ],
          "name": "stdout"
        }
      ]
    },
    {
      "cell_type": "code",
      "metadata": {
        "id": "rph9RPLkrzot"
      },
      "source": [
        "#Membuat direktori rock,paper,scisor didalam folder train\n",
        "os.mkdir(train_dir + '/rock')\n",
        "train_rock_dir = os.path.join(train_dir, 'rock')\n",
        "\n",
        "os.mkdir(train_dir + '/paper')\n",
        "train_paper_dir = os.path.join(train_dir, 'paper')\n",
        "\n",
        "os.mkdir(train_dir + '/scissors')\n",
        "train_scissors_dir = os.path.join(train_dir, 'scissors')\n",
        "\n",
        "#Membuat direktori rock,paper,scisor didalam folder Validation\n",
        "os.mkdir(validation_dir + '/rock')\n",
        "validation_rock_dir = os.path.join(validation_dir, 'rock')\n",
        "\n",
        "os.mkdir(validation_dir + '/paper')\n",
        "validation_paper_dir = os.path.join(validation_dir, 'paper')\n",
        "\n",
        "os.mkdir(validation_dir + '/scissors')\n",
        "validation_scissors_dir = os.path.join(validation_dir, 'scissors')\n",
        "\n"
      ],
      "execution_count": null,
      "outputs": []
    },
    {
      "cell_type": "code",
      "metadata": {
        "id": "vEP3QBEt6mZG"
      },
      "source": [
        "#Membuat direktori rock,paper,scisor didalam folder Test\r\n",
        "os.mkdir(testing_dir + '/rock')\r\n",
        "testing_rock_dir = os.path.join(testing_dir, 'rock')\r\n",
        "\r\n",
        "os.mkdir(testing_dir + '/paper')\r\n",
        "testing_paper_dir = os.path.join(testing_dir, 'paper')\r\n",
        "\r\n",
        "os.mkdir(testing_dir + '/scissors')\r\n",
        "testing_scissors_dir = os.path.join(testing_dir, 'scissors')"
      ],
      "execution_count": null,
      "outputs": []
    },
    {
      "cell_type": "code",
      "metadata": {
        "id": "cJJDWwwpwhU0",
        "colab": {
          "base_uri": "https://localhost:8080/"
        },
        "outputId": "b48171d7-a44c-45d4-8b5e-9de1bbef8d8a"
      },
      "source": [
        "os.listdir('/tmp/rockpaperscissors/')"
      ],
      "execution_count": null,
      "outputs": [
        {
          "output_type": "execute_result",
          "data": {
            "text/plain": [
              "['paper',\n",
              " 'rock',\n",
              " 'scissors',\n",
              " 'rps-cv-images',\n",
              " 'README_rpc-cv-images.txt',\n",
              " 'testing',\n",
              " 'validation',\n",
              " 'train']"
            ]
          },
          "metadata": {
            "tags": []
          },
          "execution_count": 25
        }
      ]
    },
    {
      "cell_type": "code",
      "metadata": {
        "id": "wi3Tt43A2X3E"
      },
      "source": [
        "import numpy as np\n",
        "import shutil\n",
        "\n",
        "#Membagi data 80% ke train dan 20% ke validation\n",
        "rock_files = os.listdir(base_dir + '/rock')\n",
        "rock_files2 = np.random.choice(rock_files, int(len(rock_files) * 0.3))\n",
        "valid_rock_files = np.random.choice(rock_files2, int(len(rock_files2) * 0.5))\n",
        "test_rock_files = [ x for x in rock_files2 if x not in valid_rock_files]\n",
        "train_rock_files = [ x for x in rock_files if x not in rock_files2]\n",
        "\n",
        "for x in train_rock_files:\n",
        "  if int(len(os.listdir(train_rock_dir))) < int(len(train_rock_files)):\n",
        "    if not os.path.exists(train_rock_dir + '/' + x):\n",
        "      shutil.copy(base_dir + '/rock/' + x, train_rock_dir + '/' + x)\n",
        "\n",
        "for x in valid_rock_files:\n",
        "  if int(len(os.listdir(validation_rock_dir))) < int(len(valid_rock_files)):\n",
        "    if not os.path.exists(validation_rock_dir + '/' + x):\n",
        "      shutil.copy(base_dir + '/rock/' + x, validation_rock_dir + '/' + x)\n",
        "\n",
        "for x in test_rock_files:\n",
        "  if int(len(os.listdir(testing_rock_dir))) < int(len(test_rock_files)):\n",
        "    if not os.path.exists(testing_rock_dir + '/' + x):\n",
        "      shutil.copy(base_dir + '/rock/' + x, testing_rock_dir + '/' + x)"
      ],
      "execution_count": null,
      "outputs": []
    },
    {
      "cell_type": "code",
      "metadata": {
        "id": "3wclePce3ndb"
      },
      "source": [
        "paper_files = os.listdir(base_dir + '/paper')\n",
        "paper_files2 = np.random.choice(paper_files, int(len(paper_files) * 0.3))\n",
        "valid_paper_files = np.random.choice(paper_files2, int(len(paper_files2) * 0.5))\n",
        "test_paper_files = [ x for x in paper_files2 if x not in valid_paper_files]\n",
        "train_paper_files = [ x for x in paper_files if x not in paper_files2]\n",
        "\n",
        "for x in train_paper_files:\n",
        "  if int(len(os.listdir(train_paper_dir))) < int(len(train_paper_files)):\n",
        "    if not os.path.exists(train_paper_dir + '/' + x):\n",
        "      shutil.copy(base_dir + '/paper/' + x, train_paper_dir + '/' + x)\n",
        "\n",
        "for x in valid_paper_files:\n",
        "  if int(len(os.listdir(validation_paper_dir))) < int(len(valid_paper_files)):\n",
        "    if not os.path.exists(validation_paper_dir + '/' + x):\n",
        "      shutil.copy(base_dir + '/paper/' + x, validation_paper_dir + '/' + x)\n",
        "\n",
        "for x in test_paper_files:\n",
        "  if int(len(os.listdir(testing_paper_dir))) < int(len(test_paper_files)):\n",
        "    if not os.path.exists(testing_paper_dir + '/' + x):\n",
        "      shutil.copy(base_dir + '/paper/' + x, testing_paper_dir + '/' + x)\n",
        "\n"
      ],
      "execution_count": null,
      "outputs": []
    },
    {
      "cell_type": "code",
      "metadata": {
        "id": "TTMjdGfE4VzZ"
      },
      "source": [
        "scissors_files = os.listdir(base_dir + '/scissors')\n",
        "scissors_files2 = np.random.choice(scissors_files, int(len(scissors_files) * 0.3))\n",
        "valid_scissors_files = np.random.choice(scissors_files2, int(len(scissors_files2) * 0.5))\n",
        "test_scissors_files = [ x for x in scissors_files2 if x not in valid_scissors_files]\n",
        "train_scissors_files = [ x for x in scissors_files if x not in scissors_files2]\n",
        "\n",
        "for x in train_scissors_files:\n",
        "  if int(len(os.listdir(train_scissors_dir))) < int(len(train_scissors_files)):\n",
        "    if not os.path.exists(train_scissors_dir + '/' + x):\n",
        "      shutil.copy(base_dir + '/scissors/' + x, train_scissors_dir + '/' + x)\n",
        "\n",
        "for x in valid_scissors_files:\n",
        "  if int(len(os.listdir(validation_scissors_dir))) < int(len(valid_scissors_files)):\n",
        "    if not os.path.exists(validation_scissors_dir + '/' + x):\n",
        "      shutil.copy(base_dir + '/scissors/' + x, validation_scissors_dir + '/' + x)\n",
        "\n",
        "for x in test_scissors_files:\n",
        "  if int(len(os.listdir(testing_scissors_dir))) < int(len(test_scissors_files)):\n",
        "    if not os.path.exists(testing_scissors_dir + '/' + x):\n",
        "      shutil.copy(base_dir + '/scissors/' + x, testing_scissors_dir + '/' + x)"
      ],
      "execution_count": null,
      "outputs": []
    },
    {
      "cell_type": "code",
      "metadata": {
        "id": "1BOHbOgHtMmL"
      },
      "source": [
        "train_datagen = ImageDataGenerator(\n",
        "                    rescale=1.0/255,\n",
        "                    rotation_range=20,\n",
        "                    horizontal_flip=True,\n",
        "                    shear_range = 0.2,\n",
        "                    fill_mode = 'nearest')\n",
        "\n",
        "validation_datagen = ImageDataGenerator(\n",
        "                    rescale=1.0/255,\n",
        "                    rotation_range=20,\n",
        "                    horizontal_flip=True,\n",
        "                    shear_range = 0.2,\n",
        "                    fill_mode = 'nearest')\n",
        " \n",
        "test_datagen = ImageDataGenerator(\n",
        "                    rescale=1.0/255,\n",
        "                    horizontal_flip=False,\n",
        "                    vertical_flip=False)"
      ],
      "execution_count": null,
      "outputs": []
    },
    {
      "cell_type": "code",
      "metadata": {
        "id": "Qw0EGJhTurL-",
        "colab": {
          "base_uri": "https://localhost:8080/"
        },
        "outputId": "65a4570d-f25b-4416-cc98-74a51173ac58"
      },
      "source": [
        "train_generator = train_datagen.flow_from_directory(\n",
        "        train_dir,\n",
        "        target_size=(150, 150),\n",
        "        class_mode='categorical',\n",
        "        color_mode = 'grayscale'\n",
        "      )\n",
        "\n",
        "validation_generator = validation_datagen.flow_from_directory( \n",
        "        validation_dir,\n",
        "        target_size=(150, 150),\n",
        "        class_mode='categorical',\n",
        "        color_mode = 'grayscale'\n",
        "      )\n",
        "\n",
        "test_generator = test_datagen.flow_from_directory( \n",
        "        validation_dir,\n",
        "        target_size=(150, 150),\n",
        "        class_mode='categorical',\n",
        "        color_mode = 'grayscale',\n",
        "        shuffle=False\n",
        "      )"
      ],
      "execution_count": null,
      "outputs": [
        {
          "output_type": "stream",
          "text": [
            "Found 1617 images belonging to 3 classes.\n",
            "Found 258 images belonging to 3 classes.\n",
            "Found 258 images belonging to 3 classes.\n"
          ],
          "name": "stdout"
        }
      ]
    },
    {
      "cell_type": "code",
      "metadata": {
        "id": "AnHcPGxJ5LY3"
      },
      "source": [
        "model = tf.keras.models.Sequential([\n",
        "    tf.keras.layers.Conv2D(64, (3,3), activation='relu', input_shape=(150, 150, 1)),\n",
        "    tf.keras.layers.MaxPooling2D(2, 2),\n",
        "    tf.keras.layers.Conv2D(64, (3,3), activation='relu'),\n",
        "    tf.keras.layers.MaxPooling2D(2,2),\n",
        "    tf.keras.layers.Conv2D(128, (3,3), activation='relu'),\n",
        "    tf.keras.layers.MaxPooling2D(2,2),\n",
        "    tf.keras.layers.Conv2D(128, (3,3), activation='relu'),\n",
        "    tf.keras.layers.MaxPooling2D(2,2),\n",
        "    tf.keras.layers.Flatten(),\n",
        "    tf.keras.layers.Dropout(0.5),\n",
        "    tf.keras.layers.Dense(512, activation='relu'),\n",
        "    tf.keras.layers.Dense(3, activation='softmax')\n",
        "])"
      ],
      "execution_count": null,
      "outputs": []
    },
    {
      "cell_type": "code",
      "metadata": {
        "id": "n4SN-LG85NhO"
      },
      "source": [
        "model.compile(loss='categorical_crossentropy',\n",
        "              optimizer='rmsprop',\n",
        "              metrics=['accuracy'])"
      ],
      "execution_count": null,
      "outputs": []
    },
    {
      "cell_type": "code",
      "metadata": {
        "id": "XvHrr8Xq4ubc"
      },
      "source": [
        "import keras"
      ],
      "execution_count": null,
      "outputs": []
    },
    {
      "cell_type": "code",
      "metadata": {
        "id": "TMQpsAV64tG1"
      },
      "source": [
        "opt = keras.optimizers.Adam(lr=0.001)\r\n",
        "model.compile(optimizer=opt,\r\n",
        "              loss = 'categorical_crossentropy',\r\n",
        "              metrics=['accuracy'])"
      ],
      "execution_count": null,
      "outputs": []
    },
    {
      "cell_type": "code",
      "metadata": {
        "id": "5hKoqHmm5WBa",
        "colab": {
          "base_uri": "https://localhost:8080/"
        },
        "outputId": "ed00c45c-1b6c-4e6e-9ecb-7a24e66ccaa8"
      },
      "source": [
        "model1 = model.fit(\n",
        "      train_generator,\n",
        "      steps_per_epoch=25,  \n",
        "      epochs=10,\n",
        "      validation_data=validation_generator, \n",
        "      validation_steps=5,  \n",
        "      verbose=2)"
      ],
      "execution_count": null,
      "outputs": [
        {
          "output_type": "stream",
          "text": [
            "Epoch 1/10\n",
            "25/25 - 57s - loss: 1.1054 - accuracy: 0.3567 - val_loss: 1.1010 - val_accuracy: 0.3625\n",
            "Epoch 2/10\n",
            "25/25 - 53s - loss: 1.0906 - accuracy: 0.3688 - val_loss: 1.0462 - val_accuracy: 0.5562\n",
            "Epoch 3/10\n",
            "25/25 - 53s - loss: 0.8802 - accuracy: 0.6075 - val_loss: 0.6688 - val_accuracy: 0.7563\n",
            "Epoch 4/10\n",
            "25/25 - 52s - loss: 0.6980 - accuracy: 0.7019 - val_loss: 0.4741 - val_accuracy: 0.8250\n",
            "Epoch 5/10\n",
            "25/25 - 53s - loss: 0.5843 - accuracy: 0.7437 - val_loss: 0.4131 - val_accuracy: 0.8500\n",
            "Epoch 6/10\n",
            "25/25 - 52s - loss: 0.4063 - accuracy: 0.8637 - val_loss: 0.2162 - val_accuracy: 0.9500\n",
            "Epoch 7/10\n",
            "25/25 - 52s - loss: 0.2908 - accuracy: 0.8879 - val_loss: 0.1682 - val_accuracy: 0.9250\n",
            "Epoch 8/10\n",
            "25/25 - 52s - loss: 0.2901 - accuracy: 0.9019 - val_loss: 0.2177 - val_accuracy: 0.9187\n",
            "Epoch 9/10\n",
            "25/25 - 52s - loss: 0.2037 - accuracy: 0.9389 - val_loss: 0.1967 - val_accuracy: 0.9250\n",
            "Epoch 10/10\n",
            "25/25 - 53s - loss: 0.1328 - accuracy: 0.9538 - val_loss: 0.0315 - val_accuracy: 0.9937\n"
          ],
          "name": "stdout"
        }
      ]
    },
    {
      "cell_type": "code",
      "metadata": {
        "colab": {
          "base_uri": "https://localhost:8080/"
        },
        "id": "5IyELeqCgrBd",
        "outputId": "41083908-5772-4630-8941-938803f8d48a"
      },
      "source": [
        "model.evaluate(test_generator)"
      ],
      "execution_count": null,
      "outputs": [
        {
          "output_type": "stream",
          "text": [
            "9/9 [==============================] - 5s 471ms/step - loss: 0.0505 - accuracy: 0.9845\n"
          ],
          "name": "stdout"
        },
        {
          "output_type": "execute_result",
          "data": {
            "text/plain": [
              "[0.05053195357322693, 0.9844961166381836]"
            ]
          },
          "metadata": {
            "tags": []
          },
          "execution_count": 103
        }
      ]
    },
    {
      "cell_type": "code",
      "metadata": {
        "id": "U6qa8BuBXZV6",
        "colab": {
          "base_uri": "https://localhost:8080/",
          "height": 265
        },
        "outputId": "8d29d9ca-483c-4249-8df6-d969a4504adc"
      },
      "source": [
        "import matplotlib.pyplot as plt\n",
        "#Memunculkan graph accuracy\n",
        "plt.plot(model1.history['accuracy'])\n",
        "plt.plot(model1.history['val_accuracy'])\n",
        "plt.legend(['accuracy', 'val_accuracy'])\n",
        "plt.show()"
      ],
      "execution_count": null,
      "outputs": [
        {
          "output_type": "display_data",
          "data": {
            "image/png": "[encoded data removed]",
            "text/plain": [
              "<Figure size 432x288 with 1 Axes>"
            ]
          },
          "metadata": {
            "tags": [],
            "needs_background": "light"
          }
        }
      ]
    },
    {
      "cell_type": "code",
      "metadata": {
        "id": "bHPv9DXRKqRY",
        "colab": {
          "base_uri": "https://localhost:8080/",
          "height": 265
        },
        "outputId": "0181b302-a70b-4460-832b-f1bcdcc7095f"
      },
      "source": [
        "#Memunculkan graph loss\n",
        "plt.plot(model1.history['loss'])\n",
        "plt.plot(model1.history['val_loss'])\n",
        "plt.legend(['loss', 'val_loss'])\n",
        "plt.show()"
      ],
      "execution_count": null,
      "outputs": [
        {
          "output_type": "display_data",
          "data": {
            "image/png": "[encoded data removed]",
            "text/plain": [
              "<Figure size 432x288 with 1 Axes>"
            ]
          },
          "metadata": {
            "tags": [],
            "needs_background": "light"
          }
        }
      ]
    },
    {
      "cell_type": "code",
      "metadata": {
        "id": "wJxlKM2kCAq_"
      },
      "source": [
        "model.save('model_RPS.h5')"
      ],
      "execution_count": null,
      "outputs": []
    },
    {
      "cell_type": "code",
      "metadata": {
        "colab": {
          "base_uri": "https://localhost:8080/"
        },
        "id": "M_Nw5_tcAgTk",
        "outputId": "730703f9-9adc-4a81-a15b-abc7cf6e3862"
      },
      "source": [
        "actual = test_generator.classes\r\n",
        "actual"
      ],
      "execution_count": null,
      "outputs": [
        {
          "output_type": "execute_result",
          "data": {
            "text/plain": [
              "array([0, 0, 0, 0, 0, 0, 0, 0, 0, 0, 0, 0, 0, 0, 0, 0, 0, 0, 0, 0, 0, 0,\n",
              "       0, 0, 0, 0, 0, 0, 0, 0, 0, 0, 0, 0, 0, 0, 0, 0, 0, 0, 0, 0, 0, 0,\n",
              "       0, 0, 0, 0, 0, 0, 0, 0, 0, 0, 0, 0, 0, 0, 0, 0, 0, 0, 0, 0, 0, 0,\n",
              "       0, 0, 0, 0, 0, 0, 0, 0, 0, 0, 0, 0, 0, 0, 0, 0, 0, 0, 0, 0, 1, 1,\n",
              "       1, 1, 1, 1, 1, 1, 1, 1, 1, 1, 1, 1, 1, 1, 1, 1, 1, 1, 1, 1, 1, 1,\n",
              "       1, 1, 1, 1, 1, 1, 1, 1, 1, 1, 1, 1, 1, 1, 1, 1, 1, 1, 1, 1, 1, 1,\n",
              "       1, 1, 1, 1, 1, 1, 1, 1, 1, 1, 1, 1, 1, 1, 1, 1, 1, 1, 1, 1, 1, 1,\n",
              "       1, 1, 1, 1, 1, 1, 1, 1, 1, 1, 1, 1, 1, 1, 1, 1, 2, 2, 2, 2, 2, 2,\n",
              "       2, 2, 2, 2, 2, 2, 2, 2, 2, 2, 2, 2, 2, 2, 2, 2, 2, 2, 2, 2, 2, 2,\n",
              "       2, 2, 2, 2, 2, 2, 2, 2, 2, 2, 2, 2, 2, 2, 2, 2, 2, 2, 2, 2, 2, 2,\n",
              "       2, 2, 2, 2, 2, 2, 2, 2, 2, 2, 2, 2, 2, 2, 2, 2, 2, 2, 2, 2, 2, 2,\n",
              "       2, 2, 2, 2, 2, 2, 2, 2, 2, 2, 2, 2, 2, 2, 2, 2], dtype=int32)"
            ]
          },
          "metadata": {
            "tags": []
          },
          "execution_count": 47
        }
      ]
    },
    {
      "cell_type": "code",
      "metadata": {
        "colab": {
          "base_uri": "https://localhost:8080/"
        },
        "id": "wDhtKZmnAis_",
        "outputId": "00587aa2-e1b3-44bc-8fe1-3b175e5595fe"
      },
      "source": [
        "predicted = model.predict_classes(test_generator,verbose=1)"
      ],
      "execution_count": null,
      "outputs": [
        {
          "output_type": "stream",
          "text": [
            "/usr/local/lib/python3.6/dist-packages/tensorflow/python/keras/engine/sequential.py:450: UserWarning: `model.predict_classes()` is deprecated and will be removed after 2021-01-01. Please use instead:* `np.argmax(model.predict(x), axis=-1)`,   if your model does multi-class classification   (e.g. if it uses a `softmax` last-layer activation).* `(model.predict(x) > 0.5).astype(\"int32\")`,   if your model does binary classification   (e.g. if it uses a `sigmoid` last-layer activation).\n",
            "  warnings.warn('`model.predict_classes()` is deprecated and '\n"
          ],
          "name": "stderr"
        },
        {
          "output_type": "stream",
          "text": [
            "9/9 [==============================] - 4s 469ms/step\n"
          ],
          "name": "stdout"
        }
      ]
    },
    {
      "cell_type": "code",
      "metadata": {
        "colab": {
          "base_uri": "https://localhost:8080/"
        },
        "id": "utXT2o5SAvCW",
        "outputId": "6909bc1c-2fe2-4f5f-c146-0bb41483efa5"
      },
      "source": [
        "predicted"
      ],
      "execution_count": null,
      "outputs": [
        {
          "output_type": "execute_result",
          "data": {
            "text/plain": [
              "array([0, 0, 0, 0, 0, 0, 0, 0, 0, 0, 0, 0, 0, 0, 2, 0, 0, 0, 0, 0, 0, 0,\n",
              "       0, 0, 0, 0, 0, 0, 0, 0, 0, 0, 0, 0, 0, 0, 0, 0, 0, 0, 0, 0, 0, 0,\n",
              "       0, 0, 0, 0, 0, 0, 0, 1, 0, 0, 0, 0, 0, 0, 0, 0, 0, 0, 0, 1, 0, 0,\n",
              "       0, 0, 0, 0, 0, 0, 0, 0, 0, 0, 0, 0, 0, 0, 0, 2, 0, 0, 0, 0, 1, 1,\n",
              "       1, 1, 1, 1, 1, 1, 1, 1, 1, 1, 1, 1, 1, 1, 1, 1, 1, 1, 1, 1, 1, 1,\n",
              "       1, 1, 1, 1, 1, 1, 1, 1, 1, 1, 1, 1, 1, 1, 1, 1, 1, 1, 1, 1, 1, 1,\n",
              "       1, 1, 1, 1, 1, 1, 1, 1, 1, 1, 1, 1, 1, 1, 1, 1, 1, 1, 1, 1, 1, 1,\n",
              "       1, 1, 1, 1, 1, 1, 1, 1, 1, 1, 1, 1, 1, 1, 1, 1, 2, 2, 2, 2, 2, 2,\n",
              "       2, 2, 2, 2, 2, 2, 2, 2, 2, 2, 2, 2, 2, 2, 2, 2, 2, 2, 2, 2, 2, 2,\n",
              "       2, 2, 2, 2, 2, 2, 2, 2, 2, 2, 2, 2, 2, 2, 2, 2, 2, 2, 2, 2, 2, 2,\n",
              "       2, 2, 2, 2, 2, 2, 2, 2, 2, 2, 2, 2, 2, 2, 2, 2, 2, 2, 2, 2, 2, 2,\n",
              "       2, 2, 2, 2, 2, 2, 2, 2, 2, 2, 2, 2, 2, 2, 2, 2])"
            ]
          },
          "metadata": {
            "tags": []
          },
          "execution_count": 53
        }
      ]
    },
    {
      "cell_type": "code",
      "metadata": {
        "id": "NvBaZxMuBF1X"
      },
      "source": [
        "from sklearn.metrics import confusion_matrix,precision_score,recall_score,accuracy_score,classification_report\r\n",
        "import seaborn as sns\r\n",
        "import matplotlib.pyplot as plt\r\n",
        "import pandas as pd\r\n",
        "\r\n",
        "data = {'y_aktual':actual,\r\n",
        "        'y_predicted' : predicted}"
      ],
      "execution_count": null,
      "outputs": []
    },
    {
      "cell_type": "code",
      "metadata": {
        "colab": {
          "base_uri": "https://localhost:8080/",
          "height": 279
        },
        "id": "LFMdc_fpBIGn",
        "outputId": "a4b082a4-33a7-4fb2-eac3-713ef9188734"
      },
      "source": [
        "df = pd.DataFrame(data,columns=['y_aktual','y_predicted'])\r\n",
        "confusion_matrix2 = pd.crosstab(df['y_aktual'],df['y_predicted'],rownames=['Data Sebenarnya'],colnames=['Data Prediksi'])\r\n",
        "\r\n",
        "sns.heatmap(confusion_matrix2,annot=True,fmt='.0f')\r\n",
        "plt.show()"
      ],
      "execution_count": null,
      "outputs": [
        {
          "output_type": "display_data",
          "data": {
            "image/png": "[encoded data removed]",
            "text/plain": [
              "<Figure size 432x288 with 2 Axes>"
            ]
          },
          "metadata": {
            "tags": [],
            "needs_background": "light"
          }
        }
      ]
    },
    {
      "cell_type": "code",
      "metadata": {
        "colab": {
          "base_uri": "https://localhost:8080/"
        },
        "id": "N3SRnQ7eBQoR",
        "outputId": "144a04ac-0760-4f8e-adda-8bfcb696512a"
      },
      "source": [
        "print(classification_report(actual,predicted))"
      ],
      "execution_count": null,
      "outputs": [
        {
          "output_type": "stream",
          "text": [
            "              precision    recall  f1-score   support\n",
            "\n",
            "           0       1.00      0.95      0.98        86\n",
            "           1       0.98      1.00      0.99        84\n",
            "           2       0.98      1.00      0.99        88\n",
            "\n",
            "    accuracy                           0.98       258\n",
            "   macro avg       0.98      0.98      0.98       258\n",
            "weighted avg       0.98      0.98      0.98       258\n",
            "\n"
          ],
          "name": "stdout"
        }
      ]
    },
    {
      "cell_type": "code",
      "metadata": {
        "colab": {
          "base_uri": "https://localhost:8080/"
        },
        "id": "qHn7HtvzBSf_",
        "outputId": "36538f13-4c5b-4126-8260-138cbf109774"
      },
      "source": [
        "train_generator.class_indices"
      ],
      "execution_count": null,
      "outputs": [
        {
          "output_type": "execute_result",
          "data": {
            "text/plain": [
              "{'paper': 0, 'rock': 1, 'scissors': 2}"
            ]
          },
          "metadata": {
            "tags": []
          },
          "execution_count": 57
        }
      ]
    },
    {
      "cell_type": "code",
      "metadata": {
        "id": "FYDGYaA7BcO2"
      },
      "source": [
        "Classes = ['paper','rock','scissors'\r\n",
        "            ]"
      ],
      "execution_count": null,
      "outputs": []
    },
    {
      "cell_type": "code",
      "metadata": {
        "id": "rKToaQntBoEa"
      },
      "source": [
        "from keras.preprocessing import image\r\n",
        "import matplotlib.pyplot as plt\r\n",
        "\r\n",
        "import numpy as np\r\n",
        "\r\n",
        "def prepare(img_path):\r\n",
        "  img = image.load_img(img_path, target_size=(150,150,1), color_mode='grayscale')\r\n",
        "  x = image.img_to_array(img)\r\n",
        "  x = x/255\r\n",
        "  return np.expand_dims(x, axis=0)"
      ],
      "execution_count": null,
      "outputs": []
    },
    {
      "cell_type": "code",
      "metadata": {
        "id": "Xqyx_UDyBtvK"
      },
      "source": [
        "citra_test = '/165-1650091_transparent-rock-paper-scissors-png-rock-paper-scissors.png'"
      ],
      "execution_count": null,
      "outputs": []
    },
    {
      "cell_type": "code",
      "metadata": {
        "colab": {
          "base_uri": "https://localhost:8080/",
          "height": 286
        },
        "id": "p73mJvhOCvBo",
        "outputId": "24bb2466-63f8-4298-f35b-956a086ce957"
      },
      "source": [
        "imgs = image.load_img(citra_test, target_size=(150,150,1), color_mode='grayscale')\r\n",
        "plt.imshow(imgs)"
      ],
      "execution_count": null,
      "outputs": [
        {
          "output_type": "execute_result",
          "data": {
            "text/plain": [
              "<matplotlib.image.AxesImage at 0x7fea8e7629b0>"
            ]
          },
          "metadata": {
            "tags": []
          },
          "execution_count": 101
        },
        {
          "output_type": "display_data",
          "data": {
            "image/png": "[encoded data removed]",
            "text/plain": [
              "<Figure size 432x288 with 1 Axes>"
            ]
          },
          "metadata": {
            "tags": [],
            "needs_background": "light"
          }
        }
      ]
    },
    {
      "cell_type": "code",
      "metadata": {
        "colab": {
          "base_uri": "https://localhost:8080/"
        },
        "id": "7iFtCefLC112",
        "outputId": "d629e06d-c573-4181-ce0e-df637d642b65"
      },
      "source": [
        "hasil_akhir = model.predict_classes(prepare(citra_test))\r\n",
        "hasil_akhir_2 = model.predict(prepare(citra_test))\r\n",
        "index = np.argsort(hasil_akhir_2[0,:])\r\n",
        "print(Classes[int(hasil_akhir)])"
      ],
      "execution_count": null,
      "outputs": [
        {
          "output_type": "stream",
          "text": [
            "paper\n"
          ],
          "name": "stdout"
        },
        {
          "output_type": "stream",
          "text": [
            "/usr/local/lib/python3.6/dist-packages/tensorflow/python/keras/engine/sequential.py:450: UserWarning: `model.predict_classes()` is deprecated and will be removed after 2021-01-01. Please use instead:* `np.argmax(model.predict(x), axis=-1)`,   if your model does multi-class classification   (e.g. if it uses a `softmax` last-layer activation).* `(model.predict(x) > 0.5).astype(\"int32\")`,   if your model does binary classification   (e.g. if it uses a `sigmoid` last-layer activation).\n",
            "  warnings.warn('`model.predict_classes()` is deprecated and '\n"
          ],
          "name": "stderr"
        }
      ]
    }
  ]
}